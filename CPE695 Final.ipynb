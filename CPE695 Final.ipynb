{
  "nbformat": 4,
  "nbformat_minor": 0,
  "metadata": {
    "colab": {
      "name": "CPE695 FINAL.ipynb",
      "provenance": [],
      "collapsed_sections": [],
      "machine_shape": "hm"
    },
    "kernelspec": {
      "name": "python3",
      "display_name": "Python 3"
    },
    "accelerator": "GPU"
  },
  "cells": [
    {
      "cell_type": "markdown",
      "metadata": {
        "id": "vZL7PC4ap5Dz"
      },
      "source": [
        "In this project, we gonna tried four different models to classify the images.\n",
        "\n",
        "- 1. The most basic cnn model we build ourselves\n",
        "- 2. We refer three different famous CNN model: VggNet, AlexNet and Resnet\n",
        "- 3. Based on these three model we try to optimize our own model\n"
      ]
    },
    {
      "cell_type": "code",
      "metadata": {
        "id": "OVTTQ09cIU4s"
      },
      "source": [
        "from keras.preprocessing.image import ImageDataGenerator\n",
        "from keras.layers import Dense, Dropout, Activation\n",
        "from keras import models, regularizers, layers, optimizers\n",
        "import matplotlib.pyplot as plt\n",
        "import warnings\n",
        "\n",
        "warnings.filterwarnings('ignore')"
      ],
      "execution_count": null,
      "outputs": []
    },
    {
      "cell_type": "code",
      "metadata": {
        "id": "j6dV3pa5lj7O",
        "colab": {
          "base_uri": "https://localhost:8080/"
        },
        "outputId": "4e1147a8-f3da-45ef-b209-fcdef984e550"
      },
      "source": [
        "import tensorflow as tf\n",
        "print(\"Num GPUs Available: \", len(tf.config.experimental.list_physical_devices('GPU')))"
      ],
      "execution_count": null,
      "outputs": [
        {
          "output_type": "stream",
          "text": [
            "Num GPUs Available:  1\n"
          ],
          "name": "stdout"
        }
      ]
    },
    {
      "cell_type": "code",
      "metadata": {
        "id": "S9g72aaNIhfN",
        "colab": {
          "base_uri": "https://localhost:8080/"
        },
        "outputId": "21556a6e-c197-4a6b-d410-6e25e560fcc0"
      },
      "source": [
        "# Get train/test/validation data\n",
        "\n",
        "train_path = 'drive/My Drive/train'\n",
        "test_path = 'drive/My Drive/test'\n",
        "val_path = 'drive/My Drive/valid'\n",
        "\n",
        "train = ImageDataGenerator(rescale=1./255)\n",
        "train_data = train.flow_from_directory(train_path,target_size=(225,225),batch_size = 4,class_mode = 'categorical')\n",
        "\n",
        "test = ImageDataGenerator(rescale=1./255)\n",
        "test_data = train.flow_from_directory(test_path,target_size=(225,225),batch_size = 16,class_mode = 'categorical')\n",
        "\n",
        "valid = ImageDataGenerator(rescale=1./255)\n",
        "valid_data = train.flow_from_directory(val_path,target_size=(225,225),batch_size = 8,class_mode = 'categorical')"
      ],
      "execution_count": null,
      "outputs": [
        {
          "output_type": "stream",
          "text": [
            "Found 31316 images belonging to 225 classes.\n",
            "Found 1125 images belonging to 225 classes.\n",
            "Found 1125 images belonging to 225 classes.\n"
          ],
          "name": "stdout"
        }
      ]
    },
    {
      "cell_type": "markdown",
      "metadata": {
        "id": "OYI6Xnd9exvJ"
      },
      "source": [
        "## BirdNet\n",
        "\n",
        "This is a model we build ourselves, thus called BirdNet\n"
      ]
    },
    {
      "cell_type": "code",
      "metadata": {
        "id": "N_4FpSUNIvrV",
        "colab": {
          "base_uri": "https://localhost:8080/"
        },
        "outputId": "d7a9b58b-6f32-4171-91aa-8c6854641551"
      },
      "source": [
        "model = models.Sequential()\n",
        "\n",
        "# 1\n",
        "model.add(layers.Conv2D(512, (3, 3), activation='relu',input_shape=(225, 225, 3)))\n",
        "model.add(layers.MaxPooling2D((2, 2)))\n",
        "\n",
        "# 2\n",
        "model.add(Dropout(0.2))\n",
        "model.add(layers.Conv2D(1024, (3, 3), kernel_regularizer=regularizers.l2(0.001),\n",
        "                        activation='relu'))\n",
        "model.add(layers.MaxPooling2D((2, 2)))\n",
        "\n",
        "# 3\n",
        "model.add(Dropout(0.2))\n",
        "model.add(layers.Conv2D(2048, (3, 3), kernel_regularizer=regularizers.l2(0.001),\n",
        "                        activation='relu'))\n",
        "model.add(layers.MaxPooling2D((2, 2)))\n",
        "\n",
        "# 5\n",
        "model.add(layers.Flatten())\n",
        "model.add(layers.Dense(512, activation='relu'))\n",
        "model.add(layers.Dense(225, activation='softmax', kernel_initializer='glorot_normal'))\n",
        "\n",
        "model.summary()"
      ],
      "execution_count": null,
      "outputs": [
        {
          "output_type": "stream",
          "text": [
            "Model: \"sequential\"\n",
            "_________________________________________________________________\n",
            "Layer (type)                 Output Shape              Param #   \n",
            "=================================================================\n",
            "conv2d (Conv2D)              (None, 223, 223, 512)     14336     \n",
            "_________________________________________________________________\n",
            "max_pooling2d (MaxPooling2D) (None, 111, 111, 512)     0         \n",
            "_________________________________________________________________\n",
            "dropout (Dropout)            (None, 111, 111, 512)     0         \n",
            "_________________________________________________________________\n",
            "conv2d_1 (Conv2D)            (None, 109, 109, 1024)    4719616   \n",
            "_________________________________________________________________\n",
            "max_pooling2d_1 (MaxPooling2 (None, 54, 54, 1024)      0         \n",
            "_________________________________________________________________\n",
            "dropout_1 (Dropout)          (None, 54, 54, 1024)      0         \n",
            "_________________________________________________________________\n",
            "conv2d_2 (Conv2D)            (None, 52, 52, 2048)      18876416  \n",
            "_________________________________________________________________\n",
            "max_pooling2d_2 (MaxPooling2 (None, 26, 26, 2048)      0         \n",
            "_________________________________________________________________\n",
            "flatten (Flatten)            (None, 1384448)           0         \n",
            "_________________________________________________________________\n",
            "dense (Dense)                (None, 512)               708837888 \n",
            "_________________________________________________________________\n",
            "dense_1 (Dense)              (None, 225)               115425    \n",
            "=================================================================\n",
            "Total params: 732,563,681\n",
            "Trainable params: 732,563,681\n",
            "Non-trainable params: 0\n",
            "_________________________________________________________________\n"
          ],
          "name": "stdout"
        }
      ]
    },
    {
      "cell_type": "code",
      "metadata": {
        "id": "35SqTNtDI3US",
        "colab": {
          "base_uri": "https://localhost:8080/"
        },
        "outputId": "6b4e3fa3-7770-41f4-e105-36868b62d86d"
      },
      "source": [
        "model.compile(loss='categorical_crossentropy', optimizer=optimizers.Adam(lr=1e-4), metrics=['acc'])\n",
        "\n",
        "bird_history = model.fit(train_data, epochs=10, validation_data=valid_data, workers=10, use_multiprocessing=True)"
      ],
      "execution_count": null,
      "outputs": [
        {
          "output_type": "stream",
          "text": [
            "Epoch 1/10\n",
            "WARNING:tensorflow:multiprocessing can interact badly with TensorFlow, causing nondeterministic deadlocks. For high performance data pipelines tf.data is recommended.\n",
            "   2/7829 [..............................] - ETA: 18:40 - loss: 11.0952 - acc: 0.0000e+00WARNING:tensorflow:Callbacks method `on_train_batch_end` is slow compared to the batch time (batch time: 0.1105s vs `on_train_batch_end` time: 0.1727s). Check your callbacks.\n",
            "7828/7829 [============================>.] - ETA: 0s - loss: 4.4060 - acc: 0.1399WARNING:tensorflow:multiprocessing can interact badly with TensorFlow, causing nondeterministic deadlocks. For high performance data pipelines tf.data is recommended.\n",
            "7829/7829 [==============================] - ETA: 0s - loss: 4.4059 - acc: 0.1399WARNING:tensorflow:multiprocessing can interact badly with TensorFlow, causing nondeterministic deadlocks. For high performance data pipelines tf.data is recommended.\n",
            "WARNING:tensorflow:multiprocessing can interact badly with TensorFlow, causing nondeterministic deadlocks. For high performance data pipelines tf.data is recommended.\n",
            "7829/7829 [==============================] - 2229s 285ms/step - loss: 4.4059 - acc: 0.1399 - val_loss: 2.9797 - val_acc: 0.3378\n",
            "Epoch 2/10\n",
            "WARNING:tensorflow:multiprocessing can interact badly with TensorFlow, causing nondeterministic deadlocks. For high performance data pipelines tf.data is recommended.\n",
            "7828/7829 [============================>.] - ETA: 0s - loss: 2.6717 - acc: 0.4108WARNING:tensorflow:multiprocessing can interact badly with TensorFlow, causing nondeterministic deadlocks. For high performance data pipelines tf.data is recommended.\n",
            "7829/7829 [==============================] - ETA: 0s - loss: 2.6715 - acc: 0.4108WARNING:tensorflow:multiprocessing can interact badly with TensorFlow, causing nondeterministic deadlocks. For high performance data pipelines tf.data is recommended.\n",
            "WARNING:tensorflow:multiprocessing can interact badly with TensorFlow, causing nondeterministic deadlocks. For high performance data pipelines tf.data is recommended.\n",
            "7829/7829 [==============================] - 2230s 285ms/step - loss: 2.6715 - acc: 0.4108 - val_loss: 2.1123 - val_acc: 0.5076\n",
            "Epoch 3/10\n",
            "WARNING:tensorflow:multiprocessing can interact badly with TensorFlow, causing nondeterministic deadlocks. For high performance data pipelines tf.data is recommended.\n",
            "7828/7829 [============================>.] - ETA: 0s - loss: 1.8081 - acc: 0.5883WARNING:tensorflow:multiprocessing can interact badly with TensorFlow, causing nondeterministic deadlocks. For high performance data pipelines tf.data is recommended.\n",
            "7829/7829 [==============================] - ETA: 0s - loss: 1.8082 - acc: 0.5883WARNING:tensorflow:multiprocessing can interact badly with TensorFlow, causing nondeterministic deadlocks. For high performance data pipelines tf.data is recommended.\n",
            "WARNING:tensorflow:multiprocessing can interact badly with TensorFlow, causing nondeterministic deadlocks. For high performance data pipelines tf.data is recommended.\n",
            "7829/7829 [==============================] - 2228s 285ms/step - loss: 1.8082 - acc: 0.5883 - val_loss: 1.9427 - val_acc: 0.5600\n",
            "Epoch 4/10\n",
            "WARNING:tensorflow:multiprocessing can interact badly with TensorFlow, causing nondeterministic deadlocks. For high performance data pipelines tf.data is recommended.\n",
            "7828/7829 [============================>.] - ETA: 0s - loss: 1.1217 - acc: 0.7428WARNING:tensorflow:multiprocessing can interact badly with TensorFlow, causing nondeterministic deadlocks. For high performance data pipelines tf.data is recommended.\n",
            "7829/7829 [==============================] - ETA: 0s - loss: 1.1216 - acc: 0.7428WARNING:tensorflow:multiprocessing can interact badly with TensorFlow, causing nondeterministic deadlocks. For high performance data pipelines tf.data is recommended.\n",
            "WARNING:tensorflow:multiprocessing can interact badly with TensorFlow, causing nondeterministic deadlocks. For high performance data pipelines tf.data is recommended.\n",
            "7829/7829 [==============================] - 2228s 285ms/step - loss: 1.1216 - acc: 0.7428 - val_loss: 1.9727 - val_acc: 0.6080\n",
            "Epoch 5/10\n",
            "WARNING:tensorflow:multiprocessing can interact badly with TensorFlow, causing nondeterministic deadlocks. For high performance data pipelines tf.data is recommended.\n",
            "7828/7829 [============================>.] - ETA: 0s - loss: 0.6217 - acc: 0.8632WARNING:tensorflow:multiprocessing can interact badly with TensorFlow, causing nondeterministic deadlocks. For high performance data pipelines tf.data is recommended.\n",
            "7829/7829 [==============================] - ETA: 0s - loss: 0.6217 - acc: 0.8631WARNING:tensorflow:multiprocessing can interact badly with TensorFlow, causing nondeterministic deadlocks. For high performance data pipelines tf.data is recommended.\n",
            "WARNING:tensorflow:multiprocessing can interact badly with TensorFlow, causing nondeterministic deadlocks. For high performance data pipelines tf.data is recommended.\n",
            "7829/7829 [==============================] - 2228s 285ms/step - loss: 0.6217 - acc: 0.8631 - val_loss: 2.0845 - val_acc: 0.5956\n",
            "Epoch 6/10\n",
            "WARNING:tensorflow:multiprocessing can interact badly with TensorFlow, causing nondeterministic deadlocks. For high performance data pipelines tf.data is recommended.\n",
            "7828/7829 [============================>.] - ETA: 0s - loss: 0.3592 - acc: 0.9334WARNING:tensorflow:multiprocessing can interact badly with TensorFlow, causing nondeterministic deadlocks. For high performance data pipelines tf.data is recommended.\n",
            "7829/7829 [==============================] - ETA: 0s - loss: 0.3591 - acc: 0.9335WARNING:tensorflow:multiprocessing can interact badly with TensorFlow, causing nondeterministic deadlocks. For high performance data pipelines tf.data is recommended.\n",
            "WARNING:tensorflow:multiprocessing can interact badly with TensorFlow, causing nondeterministic deadlocks. For high performance data pipelines tf.data is recommended.\n",
            "7829/7829 [==============================] - 2230s 285ms/step - loss: 0.3591 - acc: 0.9335 - val_loss: 2.4075 - val_acc: 0.5840\n",
            "Epoch 7/10\n",
            "WARNING:tensorflow:multiprocessing can interact badly with TensorFlow, causing nondeterministic deadlocks. For high performance data pipelines tf.data is recommended.\n",
            "7828/7829 [============================>.] - ETA: 0s - loss: 0.2612 - acc: 0.9587WARNING:tensorflow:multiprocessing can interact badly with TensorFlow, causing nondeterministic deadlocks. For high performance data pipelines tf.data is recommended.\n",
            "7829/7829 [==============================] - ETA: 0s - loss: 0.2612 - acc: 0.9587WARNING:tensorflow:multiprocessing can interact badly with TensorFlow, causing nondeterministic deadlocks. For high performance data pipelines tf.data is recommended.\n",
            "WARNING:tensorflow:multiprocessing can interact badly with TensorFlow, causing nondeterministic deadlocks. For high performance data pipelines tf.data is recommended.\n",
            "7829/7829 [==============================] - 2231s 285ms/step - loss: 0.2612 - acc: 0.9587 - val_loss: 2.8805 - val_acc: 0.5947\n",
            "Epoch 8/10\n",
            "WARNING:tensorflow:multiprocessing can interact badly with TensorFlow, causing nondeterministic deadlocks. For high performance data pipelines tf.data is recommended.\n",
            "7828/7829 [============================>.] - ETA: 0s - loss: 0.2201 - acc: 0.9674WARNING:tensorflow:multiprocessing can interact badly with TensorFlow, causing nondeterministic deadlocks. For high performance data pipelines tf.data is recommended.\n",
            "7829/7829 [==============================] - ETA: 0s - loss: 0.2201 - acc: 0.9674WARNING:tensorflow:multiprocessing can interact badly with TensorFlow, causing nondeterministic deadlocks. For high performance data pipelines tf.data is recommended.\n",
            "WARNING:tensorflow:multiprocessing can interact badly with TensorFlow, causing nondeterministic deadlocks. For high performance data pipelines tf.data is recommended.\n",
            "7829/7829 [==============================] - 2231s 285ms/step - loss: 0.2201 - acc: 0.9674 - val_loss: 2.8939 - val_acc: 0.5698\n",
            "Epoch 9/10\n",
            "WARNING:tensorflow:multiprocessing can interact badly with TensorFlow, causing nondeterministic deadlocks. For high performance data pipelines tf.data is recommended.\n",
            "7828/7829 [============================>.] - ETA: 0s - loss: 0.1929 - acc: 0.9738WARNING:tensorflow:multiprocessing can interact badly with TensorFlow, causing nondeterministic deadlocks. For high performance data pipelines tf.data is recommended.\n",
            "7829/7829 [==============================] - ETA: 0s - loss: 0.1929 - acc: 0.9738WARNING:tensorflow:multiprocessing can interact badly with TensorFlow, causing nondeterministic deadlocks. For high performance data pipelines tf.data is recommended.\n",
            "WARNING:tensorflow:multiprocessing can interact badly with TensorFlow, causing nondeterministic deadlocks. For high performance data pipelines tf.data is recommended.\n",
            "7829/7829 [==============================] - 2230s 285ms/step - loss: 0.1929 - acc: 0.9738 - val_loss: 2.7727 - val_acc: 0.5733\n",
            "Epoch 10/10\n",
            "WARNING:tensorflow:multiprocessing can interact badly with TensorFlow, causing nondeterministic deadlocks. For high performance data pipelines tf.data is recommended.\n",
            "7828/7829 [============================>.] - ETA: 0s - loss: 0.1751 - acc: 0.9772WARNING:tensorflow:multiprocessing can interact badly with TensorFlow, causing nondeterministic deadlocks. For high performance data pipelines tf.data is recommended.\n",
            "7829/7829 [==============================] - ETA: 0s - loss: 0.1752 - acc: 0.9771WARNING:tensorflow:multiprocessing can interact badly with TensorFlow, causing nondeterministic deadlocks. For high performance data pipelines tf.data is recommended.\n",
            "WARNING:tensorflow:multiprocessing can interact badly with TensorFlow, causing nondeterministic deadlocks. For high performance data pipelines tf.data is recommended.\n",
            "7829/7829 [==============================] - 2223s 284ms/step - loss: 0.1752 - acc: 0.9771 - val_loss: 2.6120 - val_acc: 0.6009\n"
          ],
          "name": "stdout"
        }
      ]
    },
    {
      "cell_type": "markdown",
      "metadata": {
        "id": "D6QhlTMne_2C"
      },
      "source": [
        "## AlexNet"
      ]
    },
    {
      "cell_type": "markdown",
      "metadata": {
        "id": "gHMyolOC5sJg"
      },
      "source": [
        " - AlexNet"
      ]
    },
    {
      "cell_type": "code",
      "metadata": {
        "id": "UoTwRzdq5hfn"
      },
      "source": [
        "from keras.preprocessing.image import ImageDataGenerator\n",
        "import tensorflow as tf\n",
        "import matplotlib.pyplot as plt\n",
        "from keras import optimizers\n",
        "from tensorflow.keras.layers import Conv2D, BatchNormalization, Activation, MaxPool2D, Dropout, Flatten, Dense\n",
        "from tensorflow.keras import Model"
      ],
      "execution_count": null,
      "outputs": []
    },
    {
      "cell_type": "code",
      "metadata": {
        "id": "ZcsdLSch52dp"
      },
      "source": [
        "class AlexNet8(Model):\n",
        "    def __init__(self):\n",
        "        super(AlexNet8, self).__init__()\n",
        "        \n",
        "        self.c1 = Conv2D(filters=96, kernel_size=(3, 3))\n",
        "        self.b1 = BatchNormalization()\n",
        "        self.a1 = Activation('relu')\n",
        "        self.p1 = MaxPool2D(pool_size=(3, 3), strides=2)\n",
        "\n",
        "        \n",
        "        self.c2 = Conv2D(filters=256, kernel_size=(3, 3))\n",
        "        self.b2 = BatchNormalization()\n",
        "        self.a2 = Activation('relu')\n",
        "        self.p2 = MaxPool2D(pool_size=(3, 3), strides=2)\n",
        "\n",
        "       \n",
        "        self.c3 = Conv2D(filters=384, kernel_size=(3, 3), padding='same',\n",
        "                         activation='relu')\n",
        "          \n",
        "        \n",
        "        self.c4 = Conv2D(filters=384, kernel_size=(3, 3), padding='same',\n",
        "                         activation='relu')\n",
        "           \n",
        "       \n",
        "        self.c5 = Conv2D(filters=256, kernel_size=(3, 3), padding='same',\n",
        "                         activation='relu')\n",
        "        self.p3 = MaxPool2D(pool_size=(3, 3), strides=2)\n",
        "\n",
        "        \n",
        "        self.flatten = Flatten()\n",
        "        self.f1 = Dense(2048, activation='relu')\n",
        "        self.d1 = Dropout(0.5)\n",
        "        self.f2 = Dense(2048, activation='relu')\n",
        "        self.d2 = Dropout(0.5)\n",
        "        self.f3 = Dense(225, activation='softmax')\n",
        "\n",
        "    def call(self, x):\n",
        "        x = self.c1(x)\n",
        "        x = self.b1(x)\n",
        "        x = self.a1(x)\n",
        "        x = self.p1(x)\n",
        "\n",
        "        x = self.c2(x)\n",
        "        x = self.b2(x)\n",
        "        x = self.a2(x)\n",
        "        x = self.p2(x)\n",
        "\n",
        "        x = self.c3(x)\n",
        "\n",
        "        x = self.c4(x)\n",
        "\n",
        "        x = self.c5(x)\n",
        "        x = self.p3(x)\n",
        "\n",
        "        x = self.flatten(x)\n",
        "        x = self.f1(x)\n",
        "        x = self.d1(x)\n",
        "        x = self.f2(x)\n",
        "        x = self.d2(x)\n",
        "        y = self.f3(x)\n",
        "        return y"
      ],
      "execution_count": null,
      "outputs": []
    },
    {
      "cell_type": "code",
      "metadata": {
        "colab": {
          "base_uri": "https://localhost:8080/"
        },
        "id": "f18y-xcy54B2",
        "outputId": "594b5d01-fedc-4a45-811d-df73ae1105f7"
      },
      "source": [
        "model = AlexNet8()\n",
        "model.compile(loss='categorical_crossentropy', optimizer=optimizers.Adam(lr=1e-4), metrics=['acc'])\n",
        "\n",
        "alex_history = model.fit(train_data, epochs=10,validation_data=valid_data,workers=10,use_multiprocessing=True)"
      ],
      "execution_count": null,
      "outputs": [
        {
          "output_type": "stream",
          "text": [
            "Epoch 1/10\n",
            "WARNING:tensorflow:multiprocessing can interact badly with TensorFlow, causing nondeterministic deadlocks. For high performance data pipelines tf.data is recommended.\n",
            "   2/7829 [..............................] - ETA: 4:40 - loss: 11.5187 - acc: 0.0000e+00WARNING:tensorflow:Callbacks method `on_train_batch_end` is slow compared to the batch time (batch time: 0.0224s vs `on_train_batch_end` time: 0.0465s). Check your callbacks.\n",
            "7828/7829 [============================>.] - ETA: 0s - loss: 5.3837 - acc: 0.0089WARNING:tensorflow:multiprocessing can interact badly with TensorFlow, causing nondeterministic deadlocks. For high performance data pipelines tf.data is recommended.\n",
            "7829/7829 [==============================] - ETA: 0s - loss: 5.3837 - acc: 0.0089WARNING:tensorflow:multiprocessing can interact badly with TensorFlow, causing nondeterministic deadlocks. For high performance data pipelines tf.data is recommended.\n",
            "WARNING:tensorflow:multiprocessing can interact badly with TensorFlow, causing nondeterministic deadlocks. For high performance data pipelines tf.data is recommended.\n",
            "7829/7829 [==============================] - 530s 68ms/step - loss: 5.3837 - acc: 0.0089 - val_loss: 5.3341 - val_acc: 0.0062\n",
            "Epoch 2/10\n",
            "WARNING:tensorflow:multiprocessing can interact badly with TensorFlow, causing nondeterministic deadlocks. For high performance data pipelines tf.data is recommended.\n",
            "7828/7829 [============================>.] - ETA: 0s - loss: 5.0295 - acc: 0.0339WARNING:tensorflow:multiprocessing can interact badly with TensorFlow, causing nondeterministic deadlocks. For high performance data pipelines tf.data is recommended.\n",
            "7829/7829 [==============================] - ETA: 0s - loss: 5.0294 - acc: 0.0338WARNING:tensorflow:multiprocessing can interact badly with TensorFlow, causing nondeterministic deadlocks. For high performance data pipelines tf.data is recommended.\n",
            "WARNING:tensorflow:multiprocessing can interact badly with TensorFlow, causing nondeterministic deadlocks. For high performance data pipelines tf.data is recommended.\n",
            "7829/7829 [==============================] - 529s 68ms/step - loss: 5.0294 - acc: 0.0338 - val_loss: 4.5138 - val_acc: 0.0853\n",
            "Epoch 3/10\n",
            "WARNING:tensorflow:multiprocessing can interact badly with TensorFlow, causing nondeterministic deadlocks. For high performance data pipelines tf.data is recommended.\n",
            "7828/7829 [============================>.] - ETA: 0s - loss: 3.9400 - acc: 0.1694WARNING:tensorflow:multiprocessing can interact badly with TensorFlow, causing nondeterministic deadlocks. For high performance data pipelines tf.data is recommended.\n",
            "7829/7829 [==============================] - ETA: 0s - loss: 3.9400 - acc: 0.1694WARNING:tensorflow:multiprocessing can interact badly with TensorFlow, causing nondeterministic deadlocks. For high performance data pipelines tf.data is recommended.\n",
            "7829/7829 [==============================] - 529s 68ms/step - loss: 3.9400 - acc: 0.1694 - val_loss: 2.7580 - val_acc: 0.3733\n",
            "Epoch 4/10\n",
            "WARNING:tensorflow:multiprocessing can interact badly with TensorFlow, causing nondeterministic deadlocks. For high performance data pipelines tf.data is recommended.\n",
            "7828/7829 [============================>.] - ETA: 0s - loss: 2.6502 - acc: 0.3914WARNING:tensorflow:multiprocessing can interact badly with TensorFlow, causing nondeterministic deadlocks. For high performance data pipelines tf.data is recommended.\n",
            "7829/7829 [==============================] - ETA: 0s - loss: 2.6502 - acc: 0.3914WARNING:tensorflow:multiprocessing can interact badly with TensorFlow, causing nondeterministic deadlocks. For high performance data pipelines tf.data is recommended.\n",
            "7829/7829 [==============================] - 528s 67ms/step - loss: 2.6502 - acc: 0.3914 - val_loss: 1.9861 - val_acc: 0.5227\n",
            "Epoch 5/10\n",
            "WARNING:tensorflow:multiprocessing can interact badly with TensorFlow, causing nondeterministic deadlocks. For high performance data pipelines tf.data is recommended.\n",
            "7828/7829 [============================>.] - ETA: 0s - loss: 1.6854 - acc: 0.5856WARNING:tensorflow:multiprocessing can interact badly with TensorFlow, causing nondeterministic deadlocks. For high performance data pipelines tf.data is recommended.\n",
            "7829/7829 [==============================] - ETA: 0s - loss: 1.6853 - acc: 0.5856WARNING:tensorflow:multiprocessing can interact badly with TensorFlow, causing nondeterministic deadlocks. For high performance data pipelines tf.data is recommended.\n",
            "WARNING:tensorflow:multiprocessing can interact badly with TensorFlow, causing nondeterministic deadlocks. For high performance data pipelines tf.data is recommended.\n",
            "7829/7829 [==============================] - 528s 67ms/step - loss: 1.6853 - acc: 0.5856 - val_loss: 1.7136 - val_acc: 0.5911\n",
            "Epoch 6/10\n",
            "WARNING:tensorflow:multiprocessing can interact badly with TensorFlow, causing nondeterministic deadlocks. For high performance data pipelines tf.data is recommended.\n",
            "7828/7829 [============================>.] - ETA: 0s - loss: 0.9914 - acc: 0.7432WARNING:tensorflow:multiprocessing can interact badly with TensorFlow, causing nondeterministic deadlocks. For high performance data pipelines tf.data is recommended.\n",
            "7829/7829 [==============================] - ETA: 0s - loss: 0.9913 - acc: 0.7432WARNING:tensorflow:multiprocessing can interact badly with TensorFlow, causing nondeterministic deadlocks. For high performance data pipelines tf.data is recommended.\n",
            "7829/7829 [==============================] - 528s 67ms/step - loss: 0.9913 - acc: 0.7432 - val_loss: 1.6291 - val_acc: 0.6213\n",
            "Epoch 7/10\n",
            "WARNING:tensorflow:multiprocessing can interact badly with TensorFlow, causing nondeterministic deadlocks. For high performance data pipelines tf.data is recommended.\n",
            "7828/7829 [============================>.] - ETA: 0s - loss: 0.5879 - acc: 0.8397WARNING:tensorflow:multiprocessing can interact badly with TensorFlow, causing nondeterministic deadlocks. For high performance data pipelines tf.data is recommended.\n",
            "7829/7829 [==============================] - ETA: 0s - loss: 0.5878 - acc: 0.8397WARNING:tensorflow:multiprocessing can interact badly with TensorFlow, causing nondeterministic deadlocks. For high performance data pipelines tf.data is recommended.\n",
            "WARNING:tensorflow:multiprocessing can interact badly with TensorFlow, causing nondeterministic deadlocks. For high performance data pipelines tf.data is recommended.\n",
            "7829/7829 [==============================] - 530s 68ms/step - loss: 0.5878 - acc: 0.8397 - val_loss: 1.6366 - val_acc: 0.6276\n",
            "Epoch 8/10\n",
            "WARNING:tensorflow:multiprocessing can interact badly with TensorFlow, causing nondeterministic deadlocks. For high performance data pipelines tf.data is recommended.\n",
            "7828/7829 [============================>.] - ETA: 0s - loss: 0.4006 - acc: 0.8886WARNING:tensorflow:multiprocessing can interact badly with TensorFlow, causing nondeterministic deadlocks. For high performance data pipelines tf.data is recommended.\n",
            "7829/7829 [==============================] - ETA: 0s - loss: 0.4007 - acc: 0.8886WARNING:tensorflow:multiprocessing can interact badly with TensorFlow, causing nondeterministic deadlocks. For high performance data pipelines tf.data is recommended.\n",
            "7829/7829 [==============================] - 531s 68ms/step - loss: 0.4007 - acc: 0.8886 - val_loss: 1.8796 - val_acc: 0.6178\n",
            "Epoch 9/10\n",
            "WARNING:tensorflow:multiprocessing can interact badly with TensorFlow, causing nondeterministic deadlocks. For high performance data pipelines tf.data is recommended.\n",
            "7828/7829 [============================>.] - ETA: 0s - loss: 0.3091 - acc: 0.9136WARNING:tensorflow:multiprocessing can interact badly with TensorFlow, causing nondeterministic deadlocks. For high performance data pipelines tf.data is recommended.\n",
            "7829/7829 [==============================] - ETA: 0s - loss: 0.3093 - acc: 0.9136WARNING:tensorflow:multiprocessing can interact badly with TensorFlow, causing nondeterministic deadlocks. For high performance data pipelines tf.data is recommended.\n",
            "7829/7829 [==============================] - 531s 68ms/step - loss: 0.3093 - acc: 0.9136 - val_loss: 1.8770 - val_acc: 0.6311\n",
            "Epoch 10/10\n",
            "WARNING:tensorflow:multiprocessing can interact badly with TensorFlow, causing nondeterministic deadlocks. For high performance data pipelines tf.data is recommended.\n",
            "7828/7829 [============================>.] - ETA: 0s - loss: 0.2595 - acc: 0.9284WARNING:tensorflow:multiprocessing can interact badly with TensorFlow, causing nondeterministic deadlocks. For high performance data pipelines tf.data is recommended.\n",
            "7829/7829 [==============================] - ETA: 0s - loss: 0.2595 - acc: 0.9284WARNING:tensorflow:multiprocessing can interact badly with TensorFlow, causing nondeterministic deadlocks. For high performance data pipelines tf.data is recommended.\n",
            "WARNING:tensorflow:multiprocessing can interact badly with TensorFlow, causing nondeterministic deadlocks. For high performance data pipelines tf.data is recommended.\n",
            "7829/7829 [==============================] - 530s 68ms/step - loss: 0.2595 - acc: 0.9284 - val_loss: 1.9649 - val_acc: 0.6284\n"
          ],
          "name": "stdout"
        }
      ]
    },
    {
      "cell_type": "markdown",
      "metadata": {
        "id": "z7HcEeU4fEts"
      },
      "source": [
        "## VggNet"
      ]
    },
    {
      "cell_type": "markdown",
      "metadata": {
        "id": "WPzwnUx85_V2"
      },
      "source": [
        "- VggNet"
      ]
    },
    {
      "cell_type": "code",
      "metadata": {
        "id": "8HG3D7xl6OFo"
      },
      "source": [
        "class VGG16(Model):\n",
        "    def __init__(self):\n",
        "        super(VGG16, self).__init__()\n",
        "        \n",
        "\n",
        "        # 1\n",
        "        self.c1 = Conv2D(filters=64, kernel_size=(3, 3), padding='same')  \n",
        "        self.b1 = BatchNormalization()  \n",
        "        self.a1 = Activation('relu')  \n",
        "        # 2\n",
        "        self.c2 = Conv2D(filters=64, kernel_size=(3, 3), padding='same', )\n",
        "        self.b2 = BatchNormalization() \n",
        "        self.a2 = Activation('relu')  \n",
        "        self.p1 = MaxPool2D(pool_size=(2, 2), strides=2, padding='same')\n",
        "        self.d1 = Dropout(0.2) \n",
        "        # 3\n",
        "        self.c3 = Conv2D(filters=128, kernel_size=(3, 3), padding='same')\n",
        "        self.b3 = BatchNormalization() \n",
        "        self.a3 = Activation('relu')  \n",
        "        # 4\n",
        "        self.c4 = Conv2D(filters=128, kernel_size=(3, 3), padding='same')\n",
        "        self.b4 = BatchNormalization()\n",
        "        self.a4 = Activation('relu') \n",
        "        self.p2 = MaxPool2D(pool_size=(2, 2), strides=2, padding='same')\n",
        "        self.d2 = Dropout(0.2)  # \n",
        "        # 5\n",
        "        self.c5 = Conv2D(filters=256, kernel_size=(3, 3), padding='same')\n",
        "        self.b5 = BatchNormalization()  \n",
        "        self.a5 = Activation('relu') \n",
        "        # 6\n",
        "        self.c6 = Conv2D(filters=256, kernel_size=(3, 3), padding='same')\n",
        "        self.b6 = BatchNormalization()  \n",
        "        self.a6 = Activation('relu')  \n",
        "        # 7\n",
        "        self.c7 = Conv2D(filters=256, kernel_size=(3, 3), padding='same')\n",
        "        self.b7 = BatchNormalization()\n",
        "        self.a7 = Activation('relu')\n",
        "        self.p3 = MaxPool2D(pool_size=(2, 2), strides=2, padding='same')\n",
        "        self.d3 = Dropout(0.2)\n",
        "        # 8\n",
        "        self.c8 = Conv2D(filters=512, kernel_size=(3, 3), padding='same')\n",
        "        self.b8 = BatchNormalization()  \n",
        "        self.a8 = Activation('relu')  \n",
        "        # 9\n",
        "        self.c9 = Conv2D(filters=512, kernel_size=(3, 3), padding='same')\n",
        "        self.b9 = BatchNormalization() \n",
        "        self.a9 = Activation('relu') \n",
        "        # 10\n",
        "        self.c10 = Conv2D(filters=512, kernel_size=(3, 3), padding='same')\n",
        "        self.b10 = BatchNormalization()\n",
        "        self.a10 = Activation('relu')\n",
        "        self.p4 = MaxPool2D(pool_size=(2, 2), strides=2, padding='same')\n",
        "        self.d4 = Dropout(0.2)\n",
        "        # 11\n",
        "        self.c11 = Conv2D(filters=512, kernel_size=(3, 3), padding='same')\n",
        "        self.b11 = BatchNormalization() \n",
        "        self.a11 = Activation('relu')  \n",
        "        # 12\n",
        "        self.c12 = Conv2D(filters=512, kernel_size=(3, 3), padding='same')\n",
        "        self.b12 = BatchNormalization()  \n",
        "        self.a12 = Activation('relu') \n",
        "        # 13\n",
        "        self.c13 = Conv2D(filters=512, kernel_size=(3, 3), padding='same')\n",
        "        self.b13 = BatchNormalization()\n",
        "        self.a13 = Activation('relu')\n",
        "        self.p5 = MaxPool2D(pool_size=(2, 2), strides=2, padding='same')\n",
        "        self.d5 = Dropout(0.2)\n",
        "\n",
        "        # 14-18\n",
        "        self.flatten = Flatten()\n",
        "        self.f1 = Dense(512, activation='relu')\n",
        "        self.d6 = Dropout(0.2)\n",
        "        self.f2 = Dense(512, activation='relu')\n",
        "        self.d7 = Dropout(0.2)\n",
        "        self.f3 = Dense(225, activation='softmax')\n",
        "\n",
        "    def call(self, x):\n",
        "        x = self.c1(x)\n",
        "        x = self.b1(x)\n",
        "        x = self.a1(x)\n",
        "        x = self.c2(x)\n",
        "        x = self.b2(x)\n",
        "        x = self.a2(x)\n",
        "        x = self.p1(x)\n",
        "        x = self.d1(x)\n",
        "\n",
        "        x = self.c3(x)\n",
        "        x = self.b3(x)\n",
        "        x = self.a3(x)\n",
        "        x = self.c4(x)\n",
        "        x = self.b4(x)\n",
        "        x = self.a4(x)\n",
        "        x = self.p2(x)\n",
        "        x = self.d2(x)\n",
        "\n",
        "        x = self.c5(x)\n",
        "        x = self.b5(x)\n",
        "        x = self.a5(x)\n",
        "        x = self.c6(x)\n",
        "        x = self.b6(x)\n",
        "        x = self.a6(x)\n",
        "        x = self.c7(x)\n",
        "        x = self.b7(x)\n",
        "        x = self.a7(x)\n",
        "        x = self.p3(x)\n",
        "        x = self.d3(x)\n",
        "\n",
        "        x = self.c8(x)\n",
        "        x = self.b8(x)\n",
        "        x = self.a8(x)\n",
        "        x = self.c9(x)\n",
        "        x = self.b9(x)\n",
        "        x = self.a9(x)\n",
        "        x = self.c10(x)\n",
        "        x = self.b10(x)\n",
        "        x = self.a10(x)\n",
        "        x = self.p4(x)\n",
        "        x = self.d4(x)\n",
        "\n",
        "        x = self.c11(x)\n",
        "        x = self.b11(x)\n",
        "        x = self.a11(x)\n",
        "        x = self.c12(x)\n",
        "        x = self.b12(x)\n",
        "        x = self.a12(x)\n",
        "        x = self.c13(x)\n",
        "        x = self.b13(x)\n",
        "        x = self.a13(x)\n",
        "        x = self.p5(x)\n",
        "        x = self.d5(x)\n",
        "\n",
        "        x = self.flatten(x)\n",
        "        x = self.f1(x)\n",
        "        x = self.d6(x)\n",
        "        x = self.f2(x)\n",
        "        x = self.d7(x)\n",
        "        y = self.f3(x)\n",
        "        return y"
      ],
      "execution_count": null,
      "outputs": []
    },
    {
      "cell_type": "code",
      "metadata": {
        "colab": {
          "base_uri": "https://localhost:8080/"
        },
        "id": "Y7moEmyy6VKM",
        "outputId": "2cfa1e7b-eb84-441b-fb06-cc26b57fe6fe"
      },
      "source": [
        "model = VGG16()\n",
        "model.compile(loss='categorical_crossentropy', optimizer=optimizers.Adam(lr=1e-4), metrics=['acc'])\n",
        "\n",
        "vgg_history = model.fit(train_data, epochs=10,validation_data=valid_data,workers=10,use_multiprocessing=True)"
      ],
      "execution_count": null,
      "outputs": [
        {
          "output_type": "stream",
          "text": [
            "Epoch 1/10\n",
            "WARNING:tensorflow:multiprocessing can interact badly with TensorFlow, causing nondeterministic deadlocks. For high performance data pipelines tf.data is recommended.\n",
            "7828/7829 [============================>.] - ETA: 0s - loss: 5.3627 - acc: 0.0106WARNING:tensorflow:multiprocessing can interact badly with TensorFlow, causing nondeterministic deadlocks. For high performance data pipelines tf.data is recommended.\n",
            "7829/7829 [==============================] - ETA: 0s - loss: 5.3626 - acc: 0.0106WARNING:tensorflow:multiprocessing can interact badly with TensorFlow, causing nondeterministic deadlocks. For high performance data pipelines tf.data is recommended.\n",
            "WARNING:tensorflow:multiprocessing can interact badly with TensorFlow, causing nondeterministic deadlocks. For high performance data pipelines tf.data is recommended.\n",
            "7829/7829 [==============================] - 468s 60ms/step - loss: 5.3626 - acc: 0.0106 - val_loss: 5.2497 - val_acc: 0.0124\n",
            "Epoch 2/10\n",
            "WARNING:tensorflow:multiprocessing can interact badly with TensorFlow, causing nondeterministic deadlocks. For high performance data pipelines tf.data is recommended.\n",
            "7829/7829 [==============================] - ETA: 0s - loss: 5.2054 - acc: 0.0163\n",
            "WARNING:tensorflow:multiprocessing can interact badly with TensorFlow, causing nondeterministic deadlocks. For high performance data pipelines tf.data is recommended.\n",
            "7829/7829 [==============================] - 466s 60ms/step - loss: 5.2054 - acc: 0.0163 - val_loss: 5.0976 - val_acc: 0.0160\n",
            "Epoch 3/10\n",
            "WARNING:tensorflow:multiprocessing can interact badly with TensorFlow, causing nondeterministic deadlocks. For high performance data pipelines tf.data is recommended.\n",
            "7828/7829 [============================>.] - ETA: 0s - loss: 5.0435 - acc: 0.0255WARNING:tensorflow:multiprocessing can interact badly with TensorFlow, causing nondeterministic deadlocks. For high performance data pipelines tf.data is recommended.\n",
            "7829/7829 [==============================] - ETA: 0s - loss: 5.0434 - acc: 0.0255WARNING:tensorflow:multiprocessing can interact badly with TensorFlow, causing nondeterministic deadlocks. For high performance data pipelines tf.data is recommended.\n",
            "7829/7829 [==============================] - 466s 60ms/step - loss: 5.0434 - acc: 0.0255 - val_loss: 4.8308 - val_acc: 0.0356\n",
            "Epoch 4/10\n",
            "WARNING:tensorflow:multiprocessing can interact badly with TensorFlow, causing nondeterministic deadlocks. For high performance data pipelines tf.data is recommended.\n",
            "7828/7829 [============================>.] - ETA: 0s - loss: 4.8518 - acc: 0.0381WARNING:tensorflow:multiprocessing can interact badly with TensorFlow, causing nondeterministic deadlocks. For high performance data pipelines tf.data is recommended.\n",
            "7829/7829 [==============================] - ETA: 0s - loss: 4.8518 - acc: 0.0381WARNING:tensorflow:multiprocessing can interact badly with TensorFlow, causing nondeterministic deadlocks. For high performance data pipelines tf.data is recommended.\n",
            "7829/7829 [==============================] - 466s 59ms/step - loss: 4.8518 - acc: 0.0381 - val_loss: 4.5818 - val_acc: 0.0649\n",
            "Epoch 5/10\n",
            "WARNING:tensorflow:multiprocessing can interact badly with TensorFlow, causing nondeterministic deadlocks. For high performance data pipelines tf.data is recommended.\n",
            "7828/7829 [============================>.] - ETA: 0s - loss: 4.6417 - acc: 0.0563WARNING:tensorflow:multiprocessing can interact badly with TensorFlow, causing nondeterministic deadlocks. For high performance data pipelines tf.data is recommended.\n",
            "7829/7829 [==============================] - ETA: 0s - loss: 4.6416 - acc: 0.0563WARNING:tensorflow:multiprocessing can interact badly with TensorFlow, causing nondeterministic deadlocks. For high performance data pipelines tf.data is recommended.\n",
            "7829/7829 [==============================] - 467s 60ms/step - loss: 4.6416 - acc: 0.0563 - val_loss: 4.3423 - val_acc: 0.0916\n",
            "Epoch 6/10\n",
            "WARNING:tensorflow:multiprocessing can interact badly with TensorFlow, causing nondeterministic deadlocks. For high performance data pipelines tf.data is recommended.\n",
            "7828/7829 [============================>.] - ETA: 0s - loss: 4.4043 - acc: 0.0834WARNING:tensorflow:multiprocessing can interact badly with TensorFlow, causing nondeterministic deadlocks. For high performance data pipelines tf.data is recommended.\n",
            "7829/7829 [==============================] - ETA: 0s - loss: 4.4044 - acc: 0.0833WARNING:tensorflow:multiprocessing can interact badly with TensorFlow, causing nondeterministic deadlocks. For high performance data pipelines tf.data is recommended.\n",
            "7829/7829 [==============================] - 466s 60ms/step - loss: 4.4044 - acc: 0.0833 - val_loss: 4.0545 - val_acc: 0.1182\n",
            "Epoch 7/10\n",
            "WARNING:tensorflow:multiprocessing can interact badly with TensorFlow, causing nondeterministic deadlocks. For high performance data pipelines tf.data is recommended.\n",
            "7828/7829 [============================>.] - ETA: 0s - loss: 4.1698 - acc: 0.1128WARNING:tensorflow:multiprocessing can interact badly with TensorFlow, causing nondeterministic deadlocks. For high performance data pipelines tf.data is recommended.\n",
            "7829/7829 [==============================] - ETA: 0s - loss: 4.1698 - acc: 0.1128WARNING:tensorflow:multiprocessing can interact badly with TensorFlow, causing nondeterministic deadlocks. For high performance data pipelines tf.data is recommended.\n",
            "7829/7829 [==============================] - 467s 60ms/step - loss: 4.1698 - acc: 0.1128 - val_loss: 3.6659 - val_acc: 0.1973\n",
            "Epoch 8/10\n",
            "WARNING:tensorflow:multiprocessing can interact badly with TensorFlow, causing nondeterministic deadlocks. For high performance data pipelines tf.data is recommended.\n",
            "7828/7829 [============================>.] - ETA: 0s - loss: 3.9081 - acc: 0.1457WARNING:tensorflow:multiprocessing can interact badly with TensorFlow, causing nondeterministic deadlocks. For high performance data pipelines tf.data is recommended.\n",
            "7829/7829 [==============================] - ETA: 0s - loss: 3.9081 - acc: 0.1456WARNING:tensorflow:multiprocessing can interact badly with TensorFlow, causing nondeterministic deadlocks. For high performance data pipelines tf.data is recommended.\n",
            "7829/7829 [==============================] - 467s 60ms/step - loss: 3.9081 - acc: 0.1456 - val_loss: 3.3691 - val_acc: 0.2453\n",
            "Epoch 9/10\n",
            "WARNING:tensorflow:multiprocessing can interact badly with TensorFlow, causing nondeterministic deadlocks. For high performance data pipelines tf.data is recommended.\n",
            "7828/7829 [============================>.] - ETA: 0s - loss: 3.6670 - acc: 0.1829WARNING:tensorflow:multiprocessing can interact badly with TensorFlow, causing nondeterministic deadlocks. For high performance data pipelines tf.data is recommended.\n",
            "7829/7829 [==============================] - ETA: 0s - loss: 3.6671 - acc: 0.1829WARNING:tensorflow:multiprocessing can interact badly with TensorFlow, causing nondeterministic deadlocks. For high performance data pipelines tf.data is recommended.\n",
            "7829/7829 [==============================] - 468s 60ms/step - loss: 3.6671 - acc: 0.1829 - val_loss: 3.0175 - val_acc: 0.2898\n",
            "Epoch 10/10\n",
            "WARNING:tensorflow:multiprocessing can interact badly with TensorFlow, causing nondeterministic deadlocks. For high performance data pipelines tf.data is recommended.\n",
            "7828/7829 [============================>.] - ETA: 0s - loss: 3.4546 - acc: 0.2148WARNING:tensorflow:multiprocessing can interact badly with TensorFlow, causing nondeterministic deadlocks. For high performance data pipelines tf.data is recommended.\n",
            "7829/7829 [==============================] - ETA: 0s - loss: 3.4548 - acc: 0.2147WARNING:tensorflow:multiprocessing can interact badly with TensorFlow, causing nondeterministic deadlocks. For high performance data pipelines tf.data is recommended.\n",
            "7829/7829 [==============================] - 467s 60ms/step - loss: 3.4548 - acc: 0.2147 - val_loss: 2.8764 - val_acc: 0.3236\n"
          ],
          "name": "stdout"
        }
      ]
    },
    {
      "cell_type": "markdown",
      "metadata": {
        "id": "2ZCi4w446boM"
      },
      "source": [
        "## ResNet"
      ]
    },
    {
      "cell_type": "code",
      "metadata": {
        "id": "B8mYoR9a6k26"
      },
      "source": [
        "class ResnetBlock(Model):\n",
        "\n",
        "    def __init__(self, filters, strides=1, residual_path=False):\n",
        "        super(ResnetBlock, self).__init__()\n",
        "        self.filters = filters\n",
        "        self.strides = strides\n",
        "        self.residual_path = residual_path\n",
        "\n",
        "        self.c1 = Conv2D(filters, (3, 3), strides=strides, padding='same', use_bias=False)\n",
        "        self.b1 = BatchNormalization()\n",
        "        self.a1 = Activation('relu')\n",
        "\n",
        "        self.c2 = Conv2D(filters, (3, 3), strides=1, padding='same', use_bias=False)\n",
        "        self.b2 = BatchNormalization()\n",
        "\n",
        "        if residual_path:\n",
        "            self.down_c1 = Conv2D(filters, (1, 1), strides=strides, padding='same', use_bias=False)\n",
        "            self.down_b1 = BatchNormalization()\n",
        "        \n",
        "        self.a2 = Activation('relu')\n",
        "\n",
        "    def call(self, inputs):\n",
        "        residual = inputs  \n",
        "        x = self.c1(inputs)\n",
        "        x = self.b1(x)\n",
        "        x = self.a1(x)\n",
        "\n",
        "        x = self.c2(x)\n",
        "        y = self.b2(x)\n",
        "\n",
        "        if self.residual_path:\n",
        "            residual = self.down_c1(inputs)\n",
        "            residual = self.down_b1(residual)\n",
        "\n",
        "        out = self.a2(y + residual)  \n",
        "        return out"
      ],
      "execution_count": null,
      "outputs": []
    },
    {
      "cell_type": "code",
      "metadata": {
        "id": "WnJZt1_16ohC"
      },
      "source": [
        "class ResNet18(Model):\n",
        "\n",
        "    def __init__(self, block_list, initial_filters=64):  \n",
        "        super(ResNet18, self).__init__()\n",
        "        self.num_blocks = len(block_list)  \n",
        "        self.block_list = block_list\n",
        "        self.out_filters = initial_filters\n",
        "        self.c1 = Conv2D(self.out_filters, (3, 3), strides=1, padding='same', use_bias=False)\n",
        "        self.b1 = BatchNormalization()\n",
        "        self.a1 = Activation('relu')\n",
        "        self.blocks = tf.keras.models.Sequential()\n",
        "    \n",
        "        for block_id in range(len(block_list)):  \n",
        "            for layer_id in range(block_list[block_id]): \n",
        "                if block_id != 0 and layer_id == 0:  \n",
        "                    block = ResnetBlock(self.out_filters, strides=2, residual_path=True)\n",
        "                else:\n",
        "                    block = ResnetBlock(self.out_filters, residual_path=False)\n",
        "                self.blocks.add(block) \n",
        "            self.out_filters *= 2  \n",
        "        self.p1 = tf.keras.layers.GlobalAveragePooling2D()\n",
        "        self.f1 = tf.keras.layers.Dense(225, activation='softmax', kernel_regularizer=tf.keras.regularizers.l2())\n",
        "\n",
        "    def call(self, inputs):\n",
        "        x = self.c1(inputs)\n",
        "        x = self.b1(x)\n",
        "        x = self.a1(x)\n",
        "        x = self.blocks(x)\n",
        "        x = self.p1(x)\n",
        "        y = self.f1(x)\n",
        "        return y"
      ],
      "execution_count": null,
      "outputs": []
    },
    {
      "cell_type": "code",
      "metadata": {
        "colab": {
          "base_uri": "https://localhost:8080/"
        },
        "id": "iDCG03Lx6rAs",
        "outputId": "5667ef38-5017-43ce-ee21-57e43929caf8"
      },
      "source": [
        "model = ResNet18([2, 2, 2, 2])\n",
        "model.compile(loss='categorical_crossentropy', optimizer=optimizers.Adam(lr=1e-4), metrics=['acc'])\n",
        "\n",
        "res_history = model.fit(train_data, epochs=10,validation_data=valid_data,workers=10,use_multiprocessing=True)"
      ],
      "execution_count": null,
      "outputs": [
        {
          "output_type": "stream",
          "text": [
            "Epoch 1/10\n",
            "WARNING:tensorflow:multiprocessing can interact badly with TensorFlow, causing nondeterministic deadlocks. For high performance data pipelines tf.data is recommended.\n",
            "7828/7829 [============================>.] - ETA: 0s - loss: 6.2763 - acc: 0.0584WARNING:tensorflow:multiprocessing can interact badly with TensorFlow, causing nondeterministic deadlocks. For high performance data pipelines tf.data is recommended.\n",
            "7829/7829 [==============================] - ETA: 0s - loss: 6.2761 - acc: 0.0584WARNING:tensorflow:multiprocessing can interact badly with TensorFlow, causing nondeterministic deadlocks. For high performance data pipelines tf.data is recommended.\n",
            "WARNING:tensorflow:multiprocessing can interact badly with TensorFlow, causing nondeterministic deadlocks. For high performance data pipelines tf.data is recommended.\n",
            "7829/7829 [==============================] - 803s 103ms/step - loss: 6.2761 - acc: 0.0584 - val_loss: 5.4902 - val_acc: 0.1067\n",
            "Epoch 2/10\n",
            "WARNING:tensorflow:multiprocessing can interact badly with TensorFlow, causing nondeterministic deadlocks. For high performance data pipelines tf.data is recommended.\n",
            "7828/7829 [============================>.] - ETA: 0s - loss: 4.7081 - acc: 0.1432WARNING:tensorflow:multiprocessing can interact badly with TensorFlow, causing nondeterministic deadlocks. For high performance data pipelines tf.data is recommended.\n",
            "7829/7829 [==============================] - ETA: 0s - loss: 4.7078 - acc: 0.1433WARNING:tensorflow:multiprocessing can interact badly with TensorFlow, causing nondeterministic deadlocks. For high performance data pipelines tf.data is recommended.\n",
            "WARNING:tensorflow:multiprocessing can interact badly with TensorFlow, causing nondeterministic deadlocks. For high performance data pipelines tf.data is recommended.\n",
            "7829/7829 [==============================] - 803s 103ms/step - loss: 4.7078 - acc: 0.1433 - val_loss: 5.1784 - val_acc: 0.1520\n",
            "Epoch 3/10\n",
            "WARNING:tensorflow:multiprocessing can interact badly with TensorFlow, causing nondeterministic deadlocks. For high performance data pipelines tf.data is recommended.\n",
            "7828/7829 [============================>.] - ETA: 0s - loss: 4.0885 - acc: 0.2145WARNING:tensorflow:multiprocessing can interact badly with TensorFlow, causing nondeterministic deadlocks. For high performance data pipelines tf.data is recommended.\n",
            "7829/7829 [==============================] - ETA: 0s - loss: 4.0884 - acc: 0.2145WARNING:tensorflow:multiprocessing can interact badly with TensorFlow, causing nondeterministic deadlocks. For high performance data pipelines tf.data is recommended.\n",
            "WARNING:tensorflow:multiprocessing can interact badly with TensorFlow, causing nondeterministic deadlocks. For high performance data pipelines tf.data is recommended.\n",
            "7829/7829 [==============================] - 803s 103ms/step - loss: 4.0884 - acc: 0.2145 - val_loss: 3.8899 - val_acc: 0.2942\n",
            "Epoch 4/10\n",
            "WARNING:tensorflow:multiprocessing can interact badly with TensorFlow, causing nondeterministic deadlocks. For high performance data pipelines tf.data is recommended.\n",
            "7828/7829 [============================>.] - ETA: 0s - loss: 3.6769 - acc: 0.2827WARNING:tensorflow:multiprocessing can interact badly with TensorFlow, causing nondeterministic deadlocks. For high performance data pipelines tf.data is recommended.\n",
            "7829/7829 [==============================] - ETA: 0s - loss: 3.6768 - acc: 0.2827WARNING:tensorflow:multiprocessing can interact badly with TensorFlow, causing nondeterministic deadlocks. For high performance data pipelines tf.data is recommended.\n",
            "WARNING:tensorflow:multiprocessing can interact badly with TensorFlow, causing nondeterministic deadlocks. For high performance data pipelines tf.data is recommended.\n",
            "7829/7829 [==============================] - 803s 103ms/step - loss: 3.6768 - acc: 0.2827 - val_loss: 4.0268 - val_acc: 0.3040\n",
            "Epoch 5/10\n",
            "WARNING:tensorflow:multiprocessing can interact badly with TensorFlow, causing nondeterministic deadlocks. For high performance data pipelines tf.data is recommended.\n",
            "7829/7829 [==============================] - ETA: 0s - loss: 3.3440 - acc: 0.3508WARNING:tensorflow:multiprocessing can interact badly with TensorFlow, causing nondeterministic deadlocks. For high performance data pipelines tf.data is recommended.\n",
            "WARNING:tensorflow:multiprocessing can interact badly with TensorFlow, causing nondeterministic deadlocks. For high performance data pipelines tf.data is recommended.\n",
            "WARNING:tensorflow:multiprocessing can interact badly with TensorFlow, causing nondeterministic deadlocks. For high performance data pipelines tf.data is recommended.\n",
            "7829/7829 [==============================] - 803s 103ms/step - loss: 3.3440 - acc: 0.3508 - val_loss: 2.9919 - val_acc: 0.4471\n",
            "Epoch 6/10\n",
            "WARNING:tensorflow:multiprocessing can interact badly with TensorFlow, causing nondeterministic deadlocks. For high performance data pipelines tf.data is recommended.\n",
            "7828/7829 [============================>.] - ETA: 0s - loss: 3.0603 - acc: 0.4200WARNING:tensorflow:multiprocessing can interact badly with TensorFlow, causing nondeterministic deadlocks. For high performance data pipelines tf.data is recommended.\n",
            "7829/7829 [==============================] - ETA: 0s - loss: 3.0602 - acc: 0.4200WARNING:tensorflow:multiprocessing can interact badly with TensorFlow, causing nondeterministic deadlocks. For high performance data pipelines tf.data is recommended.\n",
            "WARNING:tensorflow:multiprocessing can interact badly with TensorFlow, causing nondeterministic deadlocks. For high performance data pipelines tf.data is recommended.\n",
            "7829/7829 [==============================] - 803s 103ms/step - loss: 3.0602 - acc: 0.4200 - val_loss: 2.9284 - val_acc: 0.4489\n",
            "Epoch 7/10\n",
            "WARNING:tensorflow:multiprocessing can interact badly with TensorFlow, causing nondeterministic deadlocks. For high performance data pipelines tf.data is recommended.\n",
            "7829/7829 [==============================] - ETA: 0s - loss: 2.8022 - acc: 0.4797\n",
            "WARNING:tensorflow:multiprocessing can interact badly with TensorFlow, causing nondeterministic deadlocks. For high performance data pipelines tf.data is recommended.\n",
            "WARNING:tensorflow:multiprocessing can interact badly with TensorFlow, causing nondeterministic deadlocks. For high performance data pipelines tf.data is recommended.\n",
            "7829/7829 [==============================] - 803s 103ms/step - loss: 2.8022 - acc: 0.4797 - val_loss: 2.4365 - val_acc: 0.5280\n",
            "Epoch 8/10\n",
            "WARNING:tensorflow:multiprocessing can interact badly with TensorFlow, causing nondeterministic deadlocks. For high performance data pipelines tf.data is recommended.\n",
            "7828/7829 [============================>.] - ETA: 0s - loss: 2.5847 - acc: 0.5339WARNING:tensorflow:multiprocessing can interact badly with TensorFlow, causing nondeterministic deadlocks. For high performance data pipelines tf.data is recommended.\n",
            "7829/7829 [==============================] - ETA: 0s - loss: 2.5847 - acc: 0.5339WARNING:tensorflow:multiprocessing can interact badly with TensorFlow, causing nondeterministic deadlocks. For high performance data pipelines tf.data is recommended.\n",
            "WARNING:tensorflow:multiprocessing can interact badly with TensorFlow, causing nondeterministic deadlocks. For high performance data pipelines tf.data is recommended.\n",
            "7829/7829 [==============================] - 804s 103ms/step - loss: 2.5847 - acc: 0.5339 - val_loss: 2.1891 - val_acc: 0.6053\n",
            "Epoch 9/10\n",
            "WARNING:tensorflow:multiprocessing can interact badly with TensorFlow, causing nondeterministic deadlocks. For high performance data pipelines tf.data is recommended.\n",
            "7828/7829 [============================>.] - ETA: 0s - loss: 2.3857 - acc: 0.5742WARNING:tensorflow:multiprocessing can interact badly with TensorFlow, causing nondeterministic deadlocks. For high performance data pipelines tf.data is recommended.\n",
            "7829/7829 [==============================] - ETA: 0s - loss: 2.3858 - acc: 0.5741WARNING:tensorflow:multiprocessing can interact badly with TensorFlow, causing nondeterministic deadlocks. For high performance data pipelines tf.data is recommended.\n",
            "WARNING:tensorflow:multiprocessing can interact badly with TensorFlow, causing nondeterministic deadlocks. For high performance data pipelines tf.data is recommended.\n",
            "7829/7829 [==============================] - 803s 103ms/step - loss: 2.3858 - acc: 0.5741 - val_loss: 2.2468 - val_acc: 0.6009\n",
            "Epoch 10/10\n",
            "WARNING:tensorflow:multiprocessing can interact badly with TensorFlow, causing nondeterministic deadlocks. For high performance data pipelines tf.data is recommended.\n",
            "7828/7829 [============================>.] - ETA: 0s - loss: 2.2217 - acc: 0.6146WARNING:tensorflow:multiprocessing can interact badly with TensorFlow, causing nondeterministic deadlocks. For high performance data pipelines tf.data is recommended.\n",
            "7829/7829 [==============================] - ETA: 0s - loss: 2.2216 - acc: 0.6146WARNING:tensorflow:multiprocessing can interact badly with TensorFlow, causing nondeterministic deadlocks. For high performance data pipelines tf.data is recommended.\n",
            "WARNING:tensorflow:multiprocessing can interact badly with TensorFlow, causing nondeterministic deadlocks. For high performance data pipelines tf.data is recommended.\n",
            "7829/7829 [==============================] - 803s 103ms/step - loss: 2.2216 - acc: 0.6146 - val_loss: 1.9654 - val_acc: 0.6649\n"
          ],
          "name": "stdout"
        }
      ]
    },
    {
      "cell_type": "markdown",
      "metadata": {
        "id": "nu6LacB-6uwT"
      },
      "source": [
        "## Visualization & Comparsion\n"
      ]
    },
    {
      "cell_type": "code",
      "metadata": {
        "id": "s9h8B3P6ZTFc",
        "colab": {
          "base_uri": "https://localhost:8080/",
          "height": 506
        },
        "outputId": "77f53885-2a49-4f42-d821-768cbb6ed15b"
      },
      "source": [
        "#Accuracy\n",
        "plt.figure(figsize=(15,8))\n",
        "plt.xlabel('Iteration Times', fontsize = 20)\n",
        "plt.ylabel('Accuracy', fontsize = 20)\n",
        "plt.plot(bird_history.history['acc'],label='BirdNet Accuracy')\n",
        "plt.plot(vgg_history.history['acc'],label='VggNet Accuracy')\n",
        "plt.plot(alex_history.history['acc'],label='AlexNet Accuracy')\n",
        "plt.plot(res_history.history['acc'],label='ResNet_Accuracy')\n",
        "plt.legend()\n",
        "plt.show()"
      ],
      "execution_count": null,
      "outputs": [
        {
          "output_type": "display_data",
          "data": {
            "image/png": "[encoded data removed]",
            "text/plain": [
              "<Figure size 1080x576 with 1 Axes>"
            ]
          },
          "metadata": {
            "tags": [],
            "needs_background": "light"
          }
        }
      ]
    },
    {
      "cell_type": "code",
      "metadata": {
        "id": "O5P75E-OZWva",
        "colab": {
          "base_uri": "https://localhost:8080/",
          "height": 320
        },
        "outputId": "cd47aee1-7616-4cdb-b171-256321cdcb43"
      },
      "source": [
        "plt.figure(figsize=(10,5))\n",
        "plt.plot(bird_history.history['val_acc'],label='Validation_Accuracy')\n",
        "plt.plot(bird_history.history['acc'],label='Accuracy')\n",
        "plt.legend()\n",
        "plt.show()\n"
      ],
      "execution_count": null,
      "outputs": [
        {
          "output_type": "display_data",
          "data": {
            "image/png": "[encoded data removed]",
            "text/plain": [
              "<Figure size 720x360 with 1 Axes>"
            ]
          },
          "metadata": {
            "tags": [],
            "needs_background": "light"
          }
        }
      ]
    },
    {
      "cell_type": "code",
      "metadata": {
        "id": "ylIU73CvRdnX"
      },
      "source": [
        ""
      ],
      "execution_count": null,
      "outputs": []
    }
  ]
}